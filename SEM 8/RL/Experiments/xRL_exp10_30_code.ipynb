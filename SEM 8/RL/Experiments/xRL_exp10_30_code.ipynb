{
  "nbformat": 4,
  "nbformat_minor": 0,
  "metadata": {
    "colab": {
      "provenance": []
    },
    "kernelspec": {
      "name": "python3",
      "display_name": "Python 3"
    },
    "language_info": {
      "name": "python"
    }
  },
  "cells": [
    {
      "cell_type": "code",
      "execution_count": null,
      "metadata": {
        "colab": {
          "base_uri": "https://localhost:8080/"
        },
        "id": "JzZXa0hMqC4P",
        "outputId": "ce43e1cf-fde6-42ba-b3fd-506739753305"
      },
      "outputs": [
        {
          "output_type": "stream",
          "name": "stderr",
          "text": [
            "100%|██████████| 100000/100000 [00:07<00:00, 13026.97it/s]"
          ]
        },
        {
          "output_type": "stream",
          "name": "stdout",
          "text": [
            "Average win rate over 100,000 games: -0.41551\n"
          ]
        },
        {
          "output_type": "stream",
          "name": "stderr",
          "text": [
            "\n"
          ]
        }
      ],
      "source": [
        "import numpy as np\n",
        "import matplotlib.pyplot as plt\n",
        "import seaborn as sns\n",
        "from tqdm import tqdm\n",
        "\n",
        "# Define actions\n",
        "HIT = 0\n",
        "STAND = 1\n",
        "ACTIONS = [HIT, STAND]\n",
        "\n",
        "# Player policy: Hit below 20, Stand at 20 or more\n",
        "def player_policy(player_sum):\n",
        "    return HIT if player_sum < 20 else STAND\n",
        "\n",
        "# Dealer policy: Hit below 17, Stand at 17 or more\n",
        "def dealer_policy(dealer_sum):\n",
        "    return HIT if dealer_sum < 17 else STAND\n",
        "\n",
        "# Get a card (1-10, treating face cards as 10)\n",
        "def get_card():\n",
        "    return min(np.random.randint(1, 14), 10)\n",
        "\n",
        "# Play a game of blackjack\n",
        "def play_game():\n",
        "    player_sum = get_card() + get_card()\n",
        "    dealer_sum = get_card() + get_card()\n",
        "\n",
        "    # Player's turn\n",
        "    while player_policy(player_sum) == HIT:\n",
        "        player_sum += get_card()\n",
        "        if player_sum > 21:\n",
        "            return -1  # Player busts\n",
        "\n",
        "    # Dealer's turn\n",
        "    while dealer_policy(dealer_sum) == HIT:\n",
        "        dealer_sum += get_card()\n",
        "        if dealer_sum > 21:\n",
        "            return 1  # Dealer busts\n",
        "\n",
        "    # Compare results\n",
        "    if player_sum > dealer_sum:\n",
        "        return 1  # Player wins\n",
        "    elif player_sum < dealer_sum:\n",
        "        return -1  # Dealer wins\n",
        "    else:\n",
        "        return 0  # Draw\n",
        "\n",
        "# Monte Carlo simulation\n",
        "def monte_carlo_simulation(episodes=10000):\n",
        "    results = np.zeros(episodes)\n",
        "    for i in tqdm(range(episodes)):\n",
        "        results[i] = play_game()\n",
        "\n",
        "    return np.mean(results)\n",
        "\n",
        "# Run the simulation\n",
        "win_rate = monte_carlo_simulation(100000)\n",
        "print(f\"Average win rate over 100,000 games: {win_rate}\")\n"
      ]
    },
    {
      "cell_type": "code",
      "source": [
        "win_rate = monte_carlo_simulation(1000)\n",
        "print(f\"Average win rate over 100,0 games: {win_rate}\")"
      ],
      "metadata": {
        "colab": {
          "base_uri": "https://localhost:8080/"
        },
        "id": "jbpY0y6iqTFL",
        "outputId": "19fc32a4-b0ed-4764-b777-638cb68cf326"
      },
      "execution_count": null,
      "outputs": [
        {
          "output_type": "stream",
          "name": "stderr",
          "text": [
            "100%|██████████| 1000/1000 [00:00<00:00, 11574.45it/s]"
          ]
        },
        {
          "output_type": "stream",
          "name": "stdout",
          "text": [
            "Average win rate over 100,0 games: -0.39\n"
          ]
        },
        {
          "output_type": "stream",
          "name": "stderr",
          "text": [
            "\n"
          ]
        }
      ]
    },
    {
      "cell_type": "code",
      "source": [],
      "metadata": {
        "id": "Kn1P4aINtasK"
      },
      "execution_count": null,
      "outputs": []
    }
  ]
}

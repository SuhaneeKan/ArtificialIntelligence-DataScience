{
  "nbformat": 4,
  "nbformat_minor": 0,
  "metadata": {
    "colab": {
      "provenance": []
    },
    "kernelspec": {
      "name": "python3",
      "display_name": "Python 3"
    },
    "language_info": {
      "name": "python"
    }
  },
  "cells": [
    {
      "cell_type": "markdown",
      "source": [
        "Suhanee Kandalkar D16AD 30"
      ],
      "metadata": {
        "id": "nvEDOHinz0RZ"
      }
    },
    {
      "cell_type": "markdown",
      "source": [
        "# Experiment 9\n",
        "Implement and analyze the Temporal Difference (TD) Learning algorithm (TD(0)) for policy evaluation in a grid-world environment"
      ],
      "metadata": {
        "id": "n1We-0Jk6zcx"
      }
    },
    {
      "cell_type": "code",
      "execution_count": null,
      "metadata": {
        "colab": {
          "base_uri": "https://localhost:8080/"
        },
        "id": "y8ZAyRBn6r4h",
        "outputId": "e2c1bbfb-18d1-40ce-89df-946c715891ee"
      },
      "outputs": [
        {
          "output_type": "stream",
          "name": "stdout",
          "text": [
            "Learned Value Function (V):\n",
            "[[-57.3 -54.3 -52.1 -50. ]\n",
            " [-55.9 -51.  -51.2 -44.3]\n",
            " [-51.2 -47.9 -37.2 -26.8]\n",
            " [-50.3 -43.1 -22.    0. ]]\n"
          ]
        }
      ],
      "source": [
        "import numpy as np\n",
        "\n",
        "# Grid world configuration\n",
        "rows = 4\n",
        "cols = 4\n",
        "terminal = (3, 3)\n",
        "\n",
        "# Actions: up, right, down, left\n",
        "actions = [0, 1, 2, 3]\n",
        "\n",
        "# Hyperparameters\n",
        "alpha = 0.1  # Learning rate\n",
        "gamma = 1.0   # Discount factor\n",
        "num_episodes = 10000  # Number of episodes\n",
        "\n",
        "# Initialize value function\n",
        "V = np.zeros((rows, cols))\n",
        "V[terminal] = 0  # Terminal state has value 0\n",
        "\n",
        "# Define a uniform random policy (25% each action)\n",
        "policy = np.full((rows, cols, len(actions)), 0.25)\n",
        "\n",
        "def take_action(s, action):\n",
        "    \"\"\"Determines the next state given current state and action.\"\"\"\n",
        "    row, col = s\n",
        "    if action == 0:  # Up\n",
        "        next_row = max(row - 1, 0)\n",
        "        next_col = col\n",
        "    elif action == 1:  # Right\n",
        "        next_col = min(col + 1, cols - 1)\n",
        "        next_row = row\n",
        "    elif action == 2:  # Down\n",
        "        next_row = min(row + 1, rows - 1)\n",
        "        next_col = col\n",
        "    elif action == 3:  # Left\n",
        "        next_col = max(col - 1, 0)\n",
        "        next_row = row\n",
        "    return (next_row, next_col)\n",
        "\n",
        "# TD(0) Learning\n",
        "for episode in range(num_episodes):\n",
        "    # Start from a random non-terminal state\n",
        "    current_state = terminal\n",
        "    while current_state == terminal:\n",
        "        current_state = (np.random.randint(0, rows), np.random.randint(0, cols))\n",
        "\n",
        "    while current_state != terminal:\n",
        "        # Choose action according to the policy\n",
        "        action = np.random.choice(actions, p=policy[current_state[0], current_state[1]])\n",
        "        next_state = take_action(current_state, action)\n",
        "\n",
        "        # Determine reward\n",
        "        reward = 0 if next_state == terminal else -1\n",
        "\n",
        "        # TD(0) Update\n",
        "        td_target = reward + gamma * V[next_state[0], next_state[1]]\n",
        "        td_error = td_target - V[current_state[0], current_state[1]]\n",
        "        V[current_state[0], current_state[1]] += alpha * td_error\n",
        "\n",
        "        current_state = next_state\n",
        "\n",
        "# Print the learned value function\n",
        "print(\"Learned Value Function (V):\")\n",
        "print(np.round(V, decimals=1))"
      ]
    },
    {
      "cell_type": "code",
      "source": [],
      "metadata": {
        "id": "IUAAU10w647d"
      },
      "execution_count": null,
      "outputs": []
    }
  ]
}

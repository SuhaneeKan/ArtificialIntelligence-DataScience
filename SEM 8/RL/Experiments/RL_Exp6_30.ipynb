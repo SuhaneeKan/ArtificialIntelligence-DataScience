{
  "nbformat": 4,
  "nbformat_minor": 0,
  "metadata": {
    "colab": {
      "provenance": []
    },
    "kernelspec": {
      "name": "python3",
      "display_name": "Python 3"
    },
    "language_info": {
      "name": "python"
    }
  },
  "cells": [
    {
      "cell_type": "markdown",
      "source": [
        "Suhanee Kandalkar\n",
        "\n",
        "D16AD 30\n",
        "\n",
        "Exp 06 : Policy Evaluation and Iteration\n",
        "\n",
        "---\n",
        "\n"
      ],
      "metadata": {
        "id": "2v1B6Ij7cHVs"
      }
    },
    {
      "cell_type": "code",
      "source": [
        "import numpy as np\n",
        "\n",
        "# Define the grid-world environment as a Markov Decision Process (MDP)\n",
        "GRID_DIM = 4  # Grid size (4x4)\n",
        "ACTIONS = ['UP', 'DOWN', 'LEFT', 'RIGHT']\n",
        "GAMMA = 0.9  # Discount factor for future rewards\n",
        "CONVERGENCE_THRESHOLD = 1e-6  # Stopping condition for policy evaluation\n",
        "\n",
        "# Reward structure: Goal state (3,3) with a positive reward, others neutral\n",
        "REWARD_FUNCTION = np.zeros((GRID_DIM, GRID_DIM))\n",
        "REWARD_FUNCTION[3, 3] = 1  # Terminal state reward\n",
        "\n",
        "# Transition function for the MDP (deterministic environment)\n",
        "def state_transition(state, action):\n",
        "    \"\"\"Returns the next state given the current state and selected action.\"\"\"\n",
        "    x, y = state\n",
        "    if action == 'UP' and x > 0:\n",
        "        return (x - 1, y)\n",
        "    if action == 'DOWN' and x < GRID_DIM - 1:\n",
        "        return (x + 1, y)\n",
        "    if action == 'LEFT' and y > 0:\n",
        "        return (x, y - 1)\n",
        "    if action == 'RIGHT' and y < GRID_DIM - 1:\n",
        "        return (x, y + 1)\n",
        "    return state  # Stay in place if movement is invalid\n",
        "\n",
        "# Initialize state-value function and policy for iterative improvement\n",
        "value_function = np.zeros((GRID_DIM, GRID_DIM))  # V(s): State-Value Function\n",
        "policy = np.random.choice(ACTIONS, size=(GRID_DIM, GRID_DIM))  # Initial random policy\n",
        "\n",
        "# Policy Evaluation: Computes V(s) for a given policy using Bellman Expectation Equation\n",
        "def policy_evaluation(policy):\n",
        "    global value_function\n",
        "    while True:\n",
        "        delta = 0  # Tracks convergence\n",
        "        for i in range(GRID_DIM):\n",
        "            for j in range(GRID_DIM):\n",
        "                state = (i, j)\n",
        "                selected_action = policy[i, j]\n",
        "                next_state = state_transition(state, selected_action)\n",
        "                # Bellman update equation\n",
        "                reward = REWARD_FUNCTION[next_state]\n",
        "                new_value = reward + GAMMA * value_function[next_state]\n",
        "                delta = max(delta, abs(value_function[state] - new_value))\n",
        "                value_function[state] = new_value\n",
        "        if delta < CONVERGENCE_THRESHOLD:\n",
        "            break\n",
        "\n",
        "# Policy Improvement: Updates policy π(s) based on V(s)\n",
        "def policy_improvement():\n",
        "    global policy\n",
        "    stable_policy = True\n",
        "    for i in range(GRID_DIM):\n",
        "        for j in range(GRID_DIM):\n",
        "            state = (i, j)\n",
        "            old_action = policy[i, j]\n",
        "            # Compute Q(s, a) for all actions\n",
        "            action_values = []\n",
        "            for action in ACTIONS:\n",
        "                next_state = state_transition(state, action)\n",
        "                reward = REWARD_FUNCTION[next_state]\n",
        "                q_value = reward + GAMMA * value_function[next_state]\n",
        "                action_values.append(q_value)\n",
        "            # Select action maximizing expected return\n",
        "            best_action = ACTIONS[np.argmax(action_values)]\n",
        "            policy[i, j] = best_action\n",
        "            if old_action != best_action:\n",
        "                stable_policy = False  # Policy has changed\n",
        "    return stable_policy\n",
        "\n",
        "# Policy Iteration: Iteratively evaluates and improves the policy until convergence\n",
        "def policy_iteration():\n",
        "    global policy, value_function\n",
        "    while True:\n",
        "        policy_evaluation(policy)  # Evaluate current policy π(s)\n",
        "        if policy_improvement():  # Improve policy π(s)\n",
        "            break  # Stop if policy is stable\n",
        "\n",
        "# Execute policy iteration on the grid-world MDP\n",
        "policy_iteration()\n",
        "\n",
        "# Display the optimal policy and state-value function after convergence\n",
        "print(\"Optimal Policy (π*):\")\n",
        "print(policy)\n",
        "print(\"\\nOptimal State-Value Function V*(s):\")\n",
        "print(value_function)\n"
      ],
      "metadata": {
        "colab": {
          "base_uri": "https://localhost:8080/"
        },
        "id": "wkAQ1Tenc7Tm",
        "outputId": "3ed055db-45ac-4336-b770-e082295aa614"
      },
      "execution_count": 3,
      "outputs": [
        {
          "output_type": "stream",
          "name": "stdout",
          "text": [
            "Optimal Policy (π*):\n",
            "[['DOWN' 'DOWN' 'DOWN' 'DOWN']\n",
            " ['DOWN' 'DOWN' 'DOWN' 'DOWN']\n",
            " ['DOWN' 'DOWN' 'DOWN' 'DOWN']\n",
            " ['RIGHT' 'RIGHT' 'RIGHT' 'DOWN']]\n",
            "\n",
            "Optimal State-Value Function V*(s):\n",
            "[[5.90489714 6.56099714 7.28999714 8.09999714]\n",
            " [6.56099714 7.28999714 8.09999714 8.99999714]\n",
            " [7.28999714 8.09999714 8.99999714 9.99999714]\n",
            " [8.09999714 8.99999714 9.99999714 9.99999714]]\n"
          ]
        }
      ]
    },
    {
      "cell_type": "code",
      "source": [],
      "metadata": {
        "id": "z34gqjXudNjf"
      },
      "execution_count": null,
      "outputs": []
    }
  ]
}
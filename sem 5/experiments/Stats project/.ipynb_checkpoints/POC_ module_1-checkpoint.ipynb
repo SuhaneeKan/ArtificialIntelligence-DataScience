{
 "cells": [
  {
   "cell_type": "code",
   "execution_count": 4,
   "id": "e02ecfb9",
   "metadata": {},
   "outputs": [],
   "source": [
    "%matplotlib inline\n",
    "import pandas as pd \n",
    "import numpy as np\n",
    "import matplotlib.pylab as plt\n",
    "import seaborn as sns\n",
    "from statsmodels import robust\n",
    "\n",
    "\n",
    "from pathlib import Path\n",
    "from scipy.stats import trim_mean"
   ]
  },
  {
   "cell_type": "code",
   "execution_count": 5,
   "id": "96c43639",
   "metadata": {},
   "outputs": [],
   "source": [
    "anime = pd.read_csv(r\"C:\\Users\\HP\\Downloads\\Stats project\\anime.csv\")\n"
   ]
  },
  {
   "cell_type": "code",
   "execution_count": 6,
   "id": "ea21ba97",
   "metadata": {},
   "outputs": [
    {
     "name": "stdout",
     "output_type": "stream",
     "text": [
      "   anime_id                                               name  \\\n",
      "0     32281                                     Kimi no Na wa.   \n",
      "1      5114                   Fullmetal Alchemist: Brotherhood   \n",
      "2     28977                                           Gintama°   \n",
      "3      9253                                        Steins;Gate   \n",
      "4      9969                                      Gintama&#039;   \n",
      "5     32935  Haikyuu!!: Karasuno Koukou VS Shiratorizawa Ga...   \n",
      "6     11061                             Hunter x Hunter (2011)   \n",
      "7       820                               Ginga Eiyuu Densetsu   \n",
      "\n",
      "                                               genre   type episodes  rating  \\\n",
      "0               Drama, Romance, School, Supernatural  Movie        1    9.37   \n",
      "1  Action, Adventure, Drama, Fantasy, Magic, Mili...     TV       64    9.26   \n",
      "2  Action, Comedy, Historical, Parody, Samurai, S...     TV       51    9.25   \n",
      "3                                   Sci-Fi, Thriller     TV       24    9.17   \n",
      "4  Action, Comedy, Historical, Parody, Samurai, S...     TV       51    9.16   \n",
      "5             Comedy, Drama, School, Shounen, Sports     TV       10    9.15   \n",
      "6            Action, Adventure, Shounen, Super Power     TV      148    9.13   \n",
      "7                     Drama, Military, Sci-Fi, Space    OVA      110    9.11   \n",
      "\n",
      "   members  \n",
      "0   200630  \n",
      "1   793665  \n",
      "2   114262  \n",
      "3   673572  \n",
      "4   151266  \n",
      "5    93351  \n",
      "6   425855  \n",
      "7    80679  \n"
     ]
    }
   ],
   "source": [
    "print(anime.head(8))"
   ]
  },
  {
   "cell_type": "code",
   "execution_count": 7,
   "id": "bc28a6ab",
   "metadata": {},
   "outputs": [
    {
     "data": {
      "text/html": [
       "<div>\n",
       "<style scoped>\n",
       "    .dataframe tbody tr th:only-of-type {\n",
       "        vertical-align: middle;\n",
       "    }\n",
       "\n",
       "    .dataframe tbody tr th {\n",
       "        vertical-align: top;\n",
       "    }\n",
       "\n",
       "    .dataframe thead th {\n",
       "        text-align: right;\n",
       "    }\n",
       "</style>\n",
       "<table border=\"1\" class=\"dataframe\">\n",
       "  <thead>\n",
       "    <tr style=\"text-align: right;\">\n",
       "      <th></th>\n",
       "      <th>anime_id</th>\n",
       "      <th>name</th>\n",
       "      <th>genre</th>\n",
       "      <th>type</th>\n",
       "      <th>episodes</th>\n",
       "      <th>rating</th>\n",
       "      <th>members</th>\n",
       "    </tr>\n",
       "  </thead>\n",
       "  <tbody>\n",
       "    <tr>\n",
       "      <th>0</th>\n",
       "      <td>32281</td>\n",
       "      <td>Kimi no Na wa.</td>\n",
       "      <td>Drama, Romance, School, Supernatural</td>\n",
       "      <td>Movie</td>\n",
       "      <td>1</td>\n",
       "      <td>9.37</td>\n",
       "      <td>200630</td>\n",
       "    </tr>\n",
       "    <tr>\n",
       "      <th>1</th>\n",
       "      <td>5114</td>\n",
       "      <td>Fullmetal Alchemist: Brotherhood</td>\n",
       "      <td>Action, Adventure, Drama, Fantasy, Magic, Mili...</td>\n",
       "      <td>TV</td>\n",
       "      <td>64</td>\n",
       "      <td>9.26</td>\n",
       "      <td>793665</td>\n",
       "    </tr>\n",
       "    <tr>\n",
       "      <th>2</th>\n",
       "      <td>28977</td>\n",
       "      <td>Gintama°</td>\n",
       "      <td>Action, Comedy, Historical, Parody, Samurai, S...</td>\n",
       "      <td>TV</td>\n",
       "      <td>51</td>\n",
       "      <td>9.25</td>\n",
       "      <td>114262</td>\n",
       "    </tr>\n",
       "    <tr>\n",
       "      <th>3</th>\n",
       "      <td>9253</td>\n",
       "      <td>Steins;Gate</td>\n",
       "      <td>Sci-Fi, Thriller</td>\n",
       "      <td>TV</td>\n",
       "      <td>24</td>\n",
       "      <td>9.17</td>\n",
       "      <td>673572</td>\n",
       "    </tr>\n",
       "    <tr>\n",
       "      <th>4</th>\n",
       "      <td>9969</td>\n",
       "      <td>Gintama&amp;#039;</td>\n",
       "      <td>Action, Comedy, Historical, Parody, Samurai, S...</td>\n",
       "      <td>TV</td>\n",
       "      <td>51</td>\n",
       "      <td>9.16</td>\n",
       "      <td>151266</td>\n",
       "    </tr>\n",
       "    <tr>\n",
       "      <th>...</th>\n",
       "      <td>...</td>\n",
       "      <td>...</td>\n",
       "      <td>...</td>\n",
       "      <td>...</td>\n",
       "      <td>...</td>\n",
       "      <td>...</td>\n",
       "      <td>...</td>\n",
       "    </tr>\n",
       "    <tr>\n",
       "      <th>12289</th>\n",
       "      <td>9316</td>\n",
       "      <td>Toushindai My Lover: Minami tai Mecha-Minami</td>\n",
       "      <td>Hentai</td>\n",
       "      <td>OVA</td>\n",
       "      <td>1</td>\n",
       "      <td>4.15</td>\n",
       "      <td>211</td>\n",
       "    </tr>\n",
       "    <tr>\n",
       "      <th>12290</th>\n",
       "      <td>5543</td>\n",
       "      <td>Under World</td>\n",
       "      <td>Hentai</td>\n",
       "      <td>OVA</td>\n",
       "      <td>1</td>\n",
       "      <td>4.28</td>\n",
       "      <td>183</td>\n",
       "    </tr>\n",
       "    <tr>\n",
       "      <th>12291</th>\n",
       "      <td>5621</td>\n",
       "      <td>Violence Gekiga David no Hoshi</td>\n",
       "      <td>Hentai</td>\n",
       "      <td>OVA</td>\n",
       "      <td>4</td>\n",
       "      <td>4.88</td>\n",
       "      <td>219</td>\n",
       "    </tr>\n",
       "    <tr>\n",
       "      <th>12292</th>\n",
       "      <td>6133</td>\n",
       "      <td>Violence Gekiga Shin David no Hoshi: Inma Dens...</td>\n",
       "      <td>Hentai</td>\n",
       "      <td>OVA</td>\n",
       "      <td>1</td>\n",
       "      <td>4.98</td>\n",
       "      <td>175</td>\n",
       "    </tr>\n",
       "    <tr>\n",
       "      <th>12293</th>\n",
       "      <td>26081</td>\n",
       "      <td>Yasuji no Pornorama: Yacchimae!!</td>\n",
       "      <td>Hentai</td>\n",
       "      <td>Movie</td>\n",
       "      <td>1</td>\n",
       "      <td>5.46</td>\n",
       "      <td>142</td>\n",
       "    </tr>\n",
       "  </tbody>\n",
       "</table>\n",
       "<p>12294 rows × 7 columns</p>\n",
       "</div>"
      ],
      "text/plain": [
       "       anime_id                                               name  \\\n",
       "0         32281                                     Kimi no Na wa.   \n",
       "1          5114                   Fullmetal Alchemist: Brotherhood   \n",
       "2         28977                                           Gintama°   \n",
       "3          9253                                        Steins;Gate   \n",
       "4          9969                                      Gintama&#039;   \n",
       "...         ...                                                ...   \n",
       "12289      9316       Toushindai My Lover: Minami tai Mecha-Minami   \n",
       "12290      5543                                        Under World   \n",
       "12291      5621                     Violence Gekiga David no Hoshi   \n",
       "12292      6133  Violence Gekiga Shin David no Hoshi: Inma Dens...   \n",
       "12293     26081                   Yasuji no Pornorama: Yacchimae!!   \n",
       "\n",
       "                                                   genre   type episodes  \\\n",
       "0                   Drama, Romance, School, Supernatural  Movie        1   \n",
       "1      Action, Adventure, Drama, Fantasy, Magic, Mili...     TV       64   \n",
       "2      Action, Comedy, Historical, Parody, Samurai, S...     TV       51   \n",
       "3                                       Sci-Fi, Thriller     TV       24   \n",
       "4      Action, Comedy, Historical, Parody, Samurai, S...     TV       51   \n",
       "...                                                  ...    ...      ...   \n",
       "12289                                             Hentai    OVA        1   \n",
       "12290                                             Hentai    OVA        1   \n",
       "12291                                             Hentai    OVA        4   \n",
       "12292                                             Hentai    OVA        1   \n",
       "12293                                             Hentai  Movie        1   \n",
       "\n",
       "       rating  members  \n",
       "0        9.37   200630  \n",
       "1        9.26   793665  \n",
       "2        9.25   114262  \n",
       "3        9.17   673572  \n",
       "4        9.16   151266  \n",
       "...       ...      ...  \n",
       "12289    4.15      211  \n",
       "12290    4.28      183  \n",
       "12291    4.88      219  \n",
       "12292    4.98      175  \n",
       "12293    5.46      142  \n",
       "\n",
       "[12294 rows x 7 columns]"
      ]
     },
     "execution_count": 7,
     "metadata": {},
     "output_type": "execute_result"
    }
   ],
   "source": [
    "anime\n"
   ]
  },
  {
   "cell_type": "markdown",
   "id": "a8d2b9f8",
   "metadata": {},
   "source": [
    "# Estimates of Location\n"
   ]
  },
  {
   "cell_type": "code",
   "execution_count": 8,
   "id": "214dfdfa",
   "metadata": {
    "scrolled": true
   },
   "outputs": [
    {
     "name": "stdout",
     "output_type": "stream",
     "text": [
      "Mean rating =\n",
      "6.473901690981445\n"
     ]
    }
   ],
   "source": [
    "print(\"Mean rating =\")\n",
    "print(anime['rating'].mean())"
   ]
  },
  {
   "cell_type": "code",
   "execution_count": 9,
   "id": "e1a39c57",
   "metadata": {},
   "outputs": [
    {
     "name": "stdout",
     "output_type": "stream",
     "text": [
      "median of  rating =\n",
      "6.57\n"
     ]
    }
   ],
   "source": [
    "print(\"median of  rating =\")\n",
    "print(anime['rating'].median())"
   ]
  },
  {
   "cell_type": "code",
   "execution_count": 10,
   "id": "3afb1074",
   "metadata": {
    "scrolled": true
   },
   "outputs": [
    {
     "name": "stdout",
     "output_type": "stream",
     "text": [
      "mode of  episodes =\n",
      "0    1\n",
      "Name: episodes, dtype: object\n"
     ]
    }
   ],
   "source": [
    "print(\"mode of  episodes =\")\n",
    "print(anime['episodes'].mode())"
   ]
  },
  {
   "cell_type": "code",
   "execution_count": 11,
   "id": "92fd4a95",
   "metadata": {
    "scrolled": true
   },
   "outputs": [
    {
     "name": "stdout",
     "output_type": "stream",
     "text": [
      "   anime_id                                               name  \\\n",
      "0     32281                                     Kimi no Na wa.   \n",
      "1      5114                   Fullmetal Alchemist: Brotherhood   \n",
      "2     28977                                           Gintama°   \n",
      "3      9253                                        Steins;Gate   \n",
      "4      9969                                      Gintama&#039;   \n",
      "5     32935  Haikyuu!!: Karasuno Koukou VS Shiratorizawa Ga...   \n",
      "6     11061                             Hunter x Hunter (2011)   \n",
      "7       820                               Ginga Eiyuu Densetsu   \n",
      "8     15335  Gintama Movie: Kanketsu-hen - Yorozuya yo Eien...   \n",
      "9     15417                           Gintama&#039;: Enchousen   \n",
      "\n",
      "                                               genre   type episodes  rating  \\\n",
      "0               Drama, Romance, School, Supernatural  Movie        1    9.37   \n",
      "1  Action, Adventure, Drama, Fantasy, Magic, Mili...     TV       64    9.26   \n",
      "2  Action, Comedy, Historical, Parody, Samurai, S...     TV       51    9.25   \n",
      "3                                   Sci-Fi, Thriller     TV       24    9.17   \n",
      "4  Action, Comedy, Historical, Parody, Samurai, S...     TV       51    9.16   \n",
      "5             Comedy, Drama, School, Shounen, Sports     TV       10    9.15   \n",
      "6            Action, Adventure, Shounen, Super Power     TV      148    9.13   \n",
      "7                     Drama, Military, Sci-Fi, Space    OVA      110    9.11   \n",
      "8  Action, Comedy, Historical, Parody, Samurai, S...  Movie        1    9.10   \n",
      "9  Action, Comedy, Historical, Parody, Samurai, S...     TV       13    9.11   \n",
      "\n",
      "   members  \n",
      "0   200630  \n",
      "1   793665  \n",
      "2   114262  \n",
      "3   673572  \n",
      "4   151266  \n",
      "5    93351  \n",
      "6   425855  \n",
      "7    80679  \n",
      "8    72534  \n",
      "9    81109  \n"
     ]
    }
   ],
   "source": [
    "print(anime.head(10))"
   ]
  },
  {
   "cell_type": "code",
   "execution_count": 12,
   "id": "4fc88af4",
   "metadata": {},
   "outputs": [
    {
     "name": "stdout",
     "output_type": "stream",
     "text": [
      "5589.94286295242\n"
     ]
    }
   ],
   "source": [
    "print(trim_mean(anime['members'],0.1))"
   ]
  },
  {
   "cell_type": "code",
   "execution_count": 13,
   "id": "c2451c9c",
   "metadata": {},
   "outputs": [
    {
     "name": "stdout",
     "output_type": "stream",
     "text": [
      "8.754444415324095\n"
     ]
    }
   ],
   "source": [
    "sample_anime = anime.head(100)\n",
    "\n",
    "print(np.average(sample_anime['rating'], weights=sample_anime['members']))"
   ]
  },
  {
   "cell_type": "markdown",
   "id": "7569a036",
   "metadata": {},
   "source": [
    " # Estimates of Variablity"
   ]
  },
  {
   "cell_type": "code",
   "execution_count": 14,
   "id": "2f1bcdcc",
   "metadata": {},
   "outputs": [
    {
     "name": "stdout",
     "output_type": "stream",
     "text": [
      "54820.676924907515\n"
     ]
    }
   ],
   "source": [
    "print(anime['members'].std())"
   ]
  },
  {
   "cell_type": "code",
   "execution_count": 15,
   "id": "2b7c32eb",
   "metadata": {},
   "outputs": [
    {
     "name": "stdout",
     "output_type": "stream",
     "text": [
      "9212.0\n"
     ]
    }
   ],
   "source": [
    "#Interquartile range is calculated as the difference of the 75% and 25% quantile.\n",
    "print(anime['members'].quantile(0.75) - anime['members'].quantile(0.25))"
   ]
  },
  {
   "cell_type": "code",
   "execution_count": 16,
   "id": "50c8838e",
   "metadata": {},
   "outputs": [
    {
     "name": "stdout",
     "output_type": "stream",
     "text": [
      "2172.0122501107066\n"
     ]
    }
   ],
   "source": [
    "#Median absolute deviation from the median\n",
    "#method- 1 \n",
    "#print(abs(anime['members'] - anime['members'].median()).median() / 0.6744897501960817)\n",
    "#method-2 \n",
    "print(robust.scale.mad(anime['members']))"
   ]
  },
  {
   "cell_type": "markdown",
   "id": "a981f0a3",
   "metadata": {},
   "source": [
    "# Estimates on Percentiles\n"
   ]
  },
  {
   "cell_type": "code",
   "execution_count": 17,
   "id": "182dac01",
   "metadata": {},
   "outputs": [
    {
     "name": "stdout",
     "output_type": "stream",
     "text": [
      "0.05       58.0\n",
      "0.25      225.0\n",
      "0.50     1550.0\n",
      "0.75     9437.0\n",
      "0.95    93164.3\n",
      "Name: members, dtype: float64\n"
     ]
    }
   ],
   "source": [
    "print(anime['members'].quantile([0.05, 0.25, 0.5, 0.75, 0.95]))"
   ]
  },
  {
   "cell_type": "code",
   "execution_count": 18,
   "id": "2656e0d6",
   "metadata": {},
   "outputs": [
    {
     "name": "stdout",
     "output_type": "stream",
     "text": [
      "         5.0%  25.0%   50.0%   75.0%    95.0%\n",
      "members  58.0  225.0  1550.0  9437.0  93164.3\n"
     ]
    }
   ],
   "source": [
    "percentages = [0.05, 0.25, 0.5, 0.75, 0.95]\n",
    "df = pd.DataFrame(anime['members'].quantile(percentages))\n",
    "df.index = [f'{p * 100}%' for p in percentages]\n",
    "print(df.transpose())"
   ]
  },
  {
   "cell_type": "markdown",
   "id": "46190fde",
   "metadata": {},
   "source": [
    "# Explore data distribution \n"
   ]
  },
  {
   "cell_type": "markdown",
   "id": "2e770575",
   "metadata": {},
   "source": [
    "### Frequency table "
   ]
  },
  {
   "cell_type": "code",
   "execution_count": 19,
   "id": "57d1b00c",
   "metadata": {},
   "outputs": [
    {
     "name": "stdout",
     "output_type": "stream",
     "text": [
      "(-644.548, 51046.4]      1190\n",
      "(51046.4, 101723.8]       356\n",
      "(101723.8, 152401.2]      156\n",
      "(152401.2, 203078.6]       96\n",
      "(203078.6, 253756.0]       66\n",
      "(253756.0, 304433.4]       37\n",
      "(304433.4, 355110.8]       33\n",
      "(355110.8, 405788.2]       16\n",
      "(405788.2, 456465.6]       11\n",
      "(456465.6, 507143.0]       10\n",
      "(557820.4, 608497.8]        8\n",
      "(507143.0, 557820.4]        8\n",
      "(608497.8, 659175.2]        5\n",
      "(659175.2, 709852.6]        2\n",
      "(709852.6, 760530.0]        2\n",
      "(861884.8, 912562.2]        2\n",
      "(760530.0, 811207.4]        1\n",
      "(963239.6, 1013917.0]       1\n",
      "(811207.4, 861884.8]        0\n",
      "(912562.2, 963239.6]        0\n",
      "Name: members, dtype: int64\n"
     ]
    }
   ],
   "source": [
    "animax = anime.head(2000)\n",
    "binnedmembers = pd.cut(animax['members'], 20)\n",
    "print(binnedmembers.value_counts())"
   ]
  },
  {
   "cell_type": "code",
   "execution_count": 20,
   "id": "b33c5780",
   "metadata": {},
   "outputs": [
    {
     "name": "stdout",
     "output_type": "stream",
     "text": [
      "                 BinRange  Count  \\\n",
      "0     (-644.548, 51046.4]   1190   \n",
      "1     (51046.4, 101723.8]    356   \n",
      "2    (101723.8, 152401.2]    156   \n",
      "3    (152401.2, 203078.6]     96   \n",
      "4    (203078.6, 253756.0]     66   \n",
      "5    (253756.0, 304433.4]     37   \n",
      "6    (304433.4, 355110.8]     33   \n",
      "7    (355110.8, 405788.2]     16   \n",
      "8    (405788.2, 456465.6]     11   \n",
      "9    (456465.6, 507143.0]     10   \n",
      "10   (507143.0, 557820.4]      8   \n",
      "11   (557820.4, 608497.8]      8   \n",
      "12   (608497.8, 659175.2]      5   \n",
      "13   (659175.2, 709852.6]      2   \n",
      "14   (709852.6, 760530.0]      2   \n",
      "15   (760530.0, 811207.4]      1   \n",
      "16   (811207.4, 861884.8]      0   \n",
      "17   (861884.8, 912562.2]      2   \n",
      "18   (912562.2, 963239.6]      0   \n",
      "19  (963239.6, 1013917.0]      1   \n",
      "\n",
      "                                                Genre  \n",
      "0   Action, Fantasy, Historical, Martial Arts,Dram...  \n",
      "1   Action, Adventure, Samurai,Romance, School, Sh...  \n",
      "2   Comedy, Drama, Mystery, Romance, Slice of Life...  \n",
      "3   Action, Adventure, Drama, Fantasy, Historical,...  \n",
      "4   Action, Seinen,Action, Fantasy, Magic, Romance...  \n",
      "5   Comedy, School, Slice of Life,Action, Adventur...  \n",
      "6   Action, Comedy, Dementia, Mecha, Parody, Sci-F...  \n",
      "7   Drama, Fantasy, Psychological, Thriller,Fantas...  \n",
      "8   Action, Drama, Horror, Mystery, Psychological,...  \n",
      "9   Drama, Fantasy, Romance, Slice of Life, Supern...  \n",
      "10  Action, Comedy, School, Super Power,Action, Po...  \n",
      "11  Action, Adventure, Comedy, Mecha, Sci-Fi,Comed...  \n",
      "12  Action, Drama, Horror, Mystery, Psychological,...  \n",
      "13  Sci-Fi, Thriller,Action, Comedy, Martial Arts,...  \n",
      "14  Action, Mecha, Military, School, Sci-Fi, Super...  \n",
      "15  Action, Adventure, Drama, Fantasy, Magic, Mili...  \n",
      "16                                                     \n",
      "17  Action, Adventure, Fantasy, Game, Romance,Acti...  \n",
      "18                                                     \n",
      "19  Mystery, Police, Psychological, Supernatural, ...  \n"
     ]
    }
   ],
   "source": [
    "binnedmembers.name = 'binnedmembers'\n",
    "df = pd.concat([animax, binnedmembers], axis=1)\n",
    "df = df.sort_values(by='members')\n",
    "\n",
    "groups = []\n",
    "for group, subset in df.groupby(by='binnedmembers'):\n",
    "    groups.append({\n",
    "        'BinRange': group,\n",
    "        'Count': len(subset),\n",
    "        'Genre': ','.join(subset.genre)\n",
    "    })\n",
    "print(pd.DataFrame(groups))"
   ]
  },
  {
   "cell_type": "code",
   "execution_count": 21,
   "id": "8cbeeab7",
   "metadata": {},
   "outputs": [
    {
     "name": "stdout",
     "output_type": "stream",
     "text": [
      "                 BinRange  Count  \\\n",
      "0     (-644.548, 51046.4]   1190   \n",
      "1     (51046.4, 101723.8]    356   \n",
      "2    (101723.8, 152401.2]    156   \n",
      "3    (152401.2, 203078.6]     96   \n",
      "4    (203078.6, 253756.0]     66   \n",
      "5    (253756.0, 304433.4]     37   \n",
      "6    (304433.4, 355110.8]     33   \n",
      "7    (355110.8, 405788.2]     16   \n",
      "8    (405788.2, 456465.6]     11   \n",
      "9    (456465.6, 507143.0]     10   \n",
      "10   (507143.0, 557820.4]      8   \n",
      "11   (557820.4, 608497.8]      8   \n",
      "12   (608497.8, 659175.2]      5   \n",
      "13   (659175.2, 709852.6]      2   \n",
      "14   (709852.6, 760530.0]      2   \n",
      "15   (760530.0, 811207.4]      1   \n",
      "16   (811207.4, 861884.8]      0   \n",
      "17   (861884.8, 912562.2]      2   \n",
      "18   (912562.2, 963239.6]      0   \n",
      "19  (963239.6, 1013917.0]      1   \n",
      "\n",
      "                                                Genre  \n",
      "0   Action, Fantasy, Historical, Martial Arts,Dram...  \n",
      "1   Action, Adventure, Samurai,Romance, School, Sh...  \n",
      "2   Comedy, Drama, Mystery, Romance, Slice of Life...  \n",
      "3   Action, Adventure, Drama, Fantasy, Historical,...  \n",
      "4   Action, Seinen,Action, Fantasy, Magic, Romance...  \n",
      "5   Comedy, School, Slice of Life,Action, Adventur...  \n",
      "6   Action, Comedy, Dementia, Mecha, Parody, Sci-F...  \n",
      "7   Drama, Fantasy, Psychological, Thriller,Fantas...  \n",
      "8   Action, Drama, Horror, Mystery, Psychological,...  \n",
      "9   Drama, Fantasy, Romance, Slice of Life, Supern...  \n",
      "10  Action, Comedy, School, Super Power,Action, Po...  \n",
      "11  Action, Adventure, Comedy, Mecha, Sci-Fi,Comed...  \n",
      "12  Action, Drama, Horror, Mystery, Psychological,...  \n",
      "13  Sci-Fi, Thriller,Action, Comedy, Martial Arts,...  \n",
      "14  Action, Mecha, Military, School, Sci-Fi, Super...  \n",
      "15  Action, Adventure, Drama, Fantasy, Magic, Mili...  \n",
      "16                                                     \n",
      "17  Action, Adventure, Fantasy, Game, Romance,Acti...  \n",
      "18                                                     \n",
      "19  Mystery, Police, Psychological, Supernatural, ...  \n"
     ]
    }
   ],
   "source": [
    "print(pd.DataFrame(groups))"
   ]
  },
  {
   "cell_type": "markdown",
   "id": "dc78cc3d",
   "metadata": {},
   "source": [
    "### Histograms "
   ]
  },
  {
   "cell_type": "code",
   "execution_count": 22,
   "id": "95648cc9",
   "metadata": {},
   "outputs": [
    {
     "data": {
      "image/png": "[encoded data removed]",
      "text/plain": [
       "<Figure size 400x400 with 1 Axes>"
      ]
     },
     "metadata": {},
     "output_type": "display_data"
    }
   ],
   "source": [
    "ax = (anime['rating'] ).plot.hist(figsize=(4, 4))\n",
    "ax.set_xlabel('rating')\n",
    "\n",
    "plt.tight_layout()\n",
    "plt.show()"
   ]
  },
  {
   "cell_type": "markdown",
   "id": "cbac2e2f",
   "metadata": {},
   "source": [
    "### density plot "
   ]
  },
  {
   "cell_type": "code",
   "execution_count": 23,
   "id": "01cad47c",
   "metadata": {},
   "outputs": [
    {
     "data": {
      "image/png": "[encoded data removed]",
      "text/plain": [
       "<Figure size 400x400 with 1 Axes>"
      ]
     },
     "metadata": {},
     "output_type": "display_data"
    }
   ],
   "source": [
    "ax = anime['rating'].plot.hist(density=True, xlim=[0, 12], \n",
    "                                    bins=range(1,12), figsize=(4, 4))\n",
    "anime['rating'].plot.density(ax=ax)\n",
    "ax.set_xlabel('rating ')\n",
    "\n",
    "plt.tight_layout()\n",
    "plt.show()"
   ]
  },
  {
   "cell_type": "markdown",
   "id": "c4ea6fe3",
   "metadata": {},
   "source": [
    "# Exploring Binary and Categorical Data "
   ]
  },
  {
   "cell_type": "markdown",
   "id": "71ec8387",
   "metadata": {},
   "source": [
    "### Scatterplots"
   ]
  },
  {
   "cell_type": "code",
   "execution_count": 24,
   "id": "d3ac82a0",
   "metadata": {
    "scrolled": true
   },
   "outputs": [
    {
     "data": {
      "image/png": "[encoded data removed]",
      "text/plain": [
       "<Figure size 400x800 with 1 Axes>"
      ]
     },
     "metadata": {},
     "output_type": "display_data"
    }
   ],
   "source": [
    "\n",
    "ax = anime.plot.scatter(x='rating', y='members', figsize=(4, 8), marker='$\\u25EF$')\n",
    "ax.set_xlabel('Rating')\n",
    "ax.set_ylabel('Members')\n",
    "ax.axhline(0, color='grey', lw=1)\n",
    "ax.axvline(0, color='blue', lw=1)\n",
    "\n",
    "plt.tight_layout()\n",
    "plt.show()"
   ]
  },
  {
   "cell_type": "markdown",
   "id": "3828f5e8",
   "metadata": {},
   "source": [
    "### Binning\n"
   ]
  },
  {
   "cell_type": "code",
   "execution_count": 25,
   "id": "d2c31599",
   "metadata": {},
   "outputs": [
    {
     "name": "stdout",
     "output_type": "stream",
     "text": [
      "       anime_id                                               name  \\\n",
      "0         32281                                     Kimi no Na wa.   \n",
      "1          5114                   Fullmetal Alchemist: Brotherhood   \n",
      "2         28977                                           Gintama°   \n",
      "3          9253                                        Steins;Gate   \n",
      "4          9969                                      Gintama&#039;   \n",
      "...         ...                                                ...   \n",
      "12289      9316       Toushindai My Lover: Minami tai Mecha-Minami   \n",
      "12290      5543                                        Under World   \n",
      "12291      5621                     Violence Gekiga David no Hoshi   \n",
      "12292      6133  Violence Gekiga Shin David no Hoshi: Inma Dens...   \n",
      "12293     26081                   Yasuji no Pornorama: Yacchimae!!   \n",
      "\n",
      "                                                   genre   type episodes  \\\n",
      "0                   Drama, Romance, School, Supernatural  Movie        1   \n",
      "1      Action, Adventure, Drama, Fantasy, Magic, Mili...     TV       64   \n",
      "2      Action, Comedy, Historical, Parody, Samurai, S...     TV       51   \n",
      "3                                       Sci-Fi, Thriller     TV       24   \n",
      "4      Action, Comedy, Historical, Parody, Samurai, S...     TV       51   \n",
      "...                                                  ...    ...      ...   \n",
      "12289                                             Hentai    OVA        1   \n",
      "12290                                             Hentai    OVA        1   \n",
      "12291                                             Hentai    OVA        4   \n",
      "12292                                             Hentai    OVA        1   \n",
      "12293                                             Hentai  Movie        1   \n",
      "\n",
      "       rating  members  \n",
      "0        9.37   200630  \n",
      "1        9.26   793665  \n",
      "2        9.25   114262  \n",
      "3        9.17   673572  \n",
      "4        9.16   151266  \n",
      "...       ...      ...  \n",
      "12289    4.15      211  \n",
      "12290    4.28      183  \n",
      "12291    4.88      219  \n",
      "12292    4.98      175  \n",
      "12293    5.46      142  \n",
      "\n",
      "[11954 rows x 7 columns]\n"
     ]
    }
   ],
   "source": [
    "animes = anime.drop(anime[anime.episodes == 'Unknown'].index)\n",
    "print(animes)"
   ]
  },
  {
   "cell_type": "code",
   "execution_count": 53,
   "id": "ee8b3006",
   "metadata": {},
   "outputs": [
    {
     "data": {
      "image/png": "[encoded data removed]",
      "text/plain": [
       "<Figure size 400x400 with 2 Axes>"
      ]
     },
     "metadata": {},
     "output_type": "display_data"
    }
   ],
   "source": [
    "animes = animes.astype({'episodes':'float'})\n",
    "ax = animes.plot.hexbin(x='rating', y='episodes',\n",
    "                         gridsize=30, sharex=False, figsize=(4, 4))\n",
    "ax.set_xlabel('rating')\n",
    "ax.set_ylabel('episodes')\n",
    "\n",
    "plt.tight_layout()\n",
    "plt.show()"
   ]
  },
  {
   "cell_type": "code",
   "execution_count": 46,
   "id": "d0ab906a",
   "metadata": {},
   "outputs": [
    {
     "data": {
      "text/html": [
       "<div>\n",
       "<style scoped>\n",
       "    .dataframe tbody tr th:only-of-type {\n",
       "        vertical-align: middle;\n",
       "    }\n",
       "\n",
       "    .dataframe tbody tr th {\n",
       "        vertical-align: top;\n",
       "    }\n",
       "\n",
       "    .dataframe thead th {\n",
       "        text-align: right;\n",
       "    }\n",
       "</style>\n",
       "<table border=\"1\" class=\"dataframe\">\n",
       "  <thead>\n",
       "    <tr style=\"text-align: right;\">\n",
       "      <th></th>\n",
       "      <th>anime_id</th>\n",
       "      <th>name</th>\n",
       "      <th>genre</th>\n",
       "      <th>type</th>\n",
       "      <th>episodes</th>\n",
       "      <th>rating</th>\n",
       "      <th>members</th>\n",
       "      <th>true_weight</th>\n",
       "    </tr>\n",
       "  </thead>\n",
       "  <tbody>\n",
       "    <tr>\n",
       "      <th>0</th>\n",
       "      <td>32281</td>\n",
       "      <td>Kimi no Na wa.</td>\n",
       "      <td>Drama, Romance, School, Supernatural</td>\n",
       "      <td>Movie</td>\n",
       "      <td>1.0</td>\n",
       "      <td>9.37</td>\n",
       "      <td>200630</td>\n",
       "      <td>2.00630</td>\n",
       "    </tr>\n",
       "    <tr>\n",
       "      <th>1</th>\n",
       "      <td>5114</td>\n",
       "      <td>Fullmetal Alchemist: Brotherhood</td>\n",
       "      <td>Action, Adventure, Drama, Fantasy, Magic, Mili...</td>\n",
       "      <td>TV</td>\n",
       "      <td>64.0</td>\n",
       "      <td>9.26</td>\n",
       "      <td>793665</td>\n",
       "      <td>507.94560</td>\n",
       "    </tr>\n",
       "    <tr>\n",
       "      <th>2</th>\n",
       "      <td>28977</td>\n",
       "      <td>Gintama°</td>\n",
       "      <td>Action, Comedy, Historical, Parody, Samurai, S...</td>\n",
       "      <td>TV</td>\n",
       "      <td>51.0</td>\n",
       "      <td>9.25</td>\n",
       "      <td>114262</td>\n",
       "      <td>58.27362</td>\n",
       "    </tr>\n",
       "    <tr>\n",
       "      <th>3</th>\n",
       "      <td>9253</td>\n",
       "      <td>Steins;Gate</td>\n",
       "      <td>Sci-Fi, Thriller</td>\n",
       "      <td>TV</td>\n",
       "      <td>24.0</td>\n",
       "      <td>9.17</td>\n",
       "      <td>673572</td>\n",
       "      <td>161.65728</td>\n",
       "    </tr>\n",
       "    <tr>\n",
       "      <th>4</th>\n",
       "      <td>9969</td>\n",
       "      <td>Gintama&amp;#039;</td>\n",
       "      <td>Action, Comedy, Historical, Parody, Samurai, S...</td>\n",
       "      <td>TV</td>\n",
       "      <td>51.0</td>\n",
       "      <td>9.16</td>\n",
       "      <td>151266</td>\n",
       "      <td>77.14566</td>\n",
       "    </tr>\n",
       "    <tr>\n",
       "      <th>5</th>\n",
       "      <td>32935</td>\n",
       "      <td>Haikyuu!!: Karasuno Koukou VS Shiratorizawa Ga...</td>\n",
       "      <td>Comedy, Drama, School, Shounen, Sports</td>\n",
       "      <td>TV</td>\n",
       "      <td>10.0</td>\n",
       "      <td>9.15</td>\n",
       "      <td>93351</td>\n",
       "      <td>9.33510</td>\n",
       "    </tr>\n",
       "    <tr>\n",
       "      <th>6</th>\n",
       "      <td>11061</td>\n",
       "      <td>Hunter x Hunter (2011)</td>\n",
       "      <td>Action, Adventure, Shounen, Super Power</td>\n",
       "      <td>TV</td>\n",
       "      <td>148.0</td>\n",
       "      <td>9.13</td>\n",
       "      <td>425855</td>\n",
       "      <td>630.26540</td>\n",
       "    </tr>\n",
       "    <tr>\n",
       "      <th>7</th>\n",
       "      <td>820</td>\n",
       "      <td>Ginga Eiyuu Densetsu</td>\n",
       "      <td>Drama, Military, Sci-Fi, Space</td>\n",
       "      <td>OVA</td>\n",
       "      <td>110.0</td>\n",
       "      <td>9.11</td>\n",
       "      <td>80679</td>\n",
       "      <td>88.74690</td>\n",
       "    </tr>\n",
       "    <tr>\n",
       "      <th>8</th>\n",
       "      <td>15335</td>\n",
       "      <td>Gintama Movie: Kanketsu-hen - Yorozuya yo Eien...</td>\n",
       "      <td>Action, Comedy, Historical, Parody, Samurai, S...</td>\n",
       "      <td>Movie</td>\n",
       "      <td>1.0</td>\n",
       "      <td>9.10</td>\n",
       "      <td>72534</td>\n",
       "      <td>0.72534</td>\n",
       "    </tr>\n",
       "    <tr>\n",
       "      <th>9</th>\n",
       "      <td>15417</td>\n",
       "      <td>Gintama&amp;#039;: Enchousen</td>\n",
       "      <td>Action, Comedy, Historical, Parody, Samurai, S...</td>\n",
       "      <td>TV</td>\n",
       "      <td>13.0</td>\n",
       "      <td>9.11</td>\n",
       "      <td>81109</td>\n",
       "      <td>10.54417</td>\n",
       "    </tr>\n",
       "  </tbody>\n",
       "</table>\n",
       "</div>"
      ],
      "text/plain": [
       "   anime_id                                               name  \\\n",
       "0     32281                                     Kimi no Na wa.   \n",
       "1      5114                   Fullmetal Alchemist: Brotherhood   \n",
       "2     28977                                           Gintama°   \n",
       "3      9253                                        Steins;Gate   \n",
       "4      9969                                      Gintama&#039;   \n",
       "5     32935  Haikyuu!!: Karasuno Koukou VS Shiratorizawa Ga...   \n",
       "6     11061                             Hunter x Hunter (2011)   \n",
       "7       820                               Ginga Eiyuu Densetsu   \n",
       "8     15335  Gintama Movie: Kanketsu-hen - Yorozuya yo Eien...   \n",
       "9     15417                           Gintama&#039;: Enchousen   \n",
       "\n",
       "                                               genre   type  episodes  rating  \\\n",
       "0               Drama, Romance, School, Supernatural  Movie       1.0    9.37   \n",
       "1  Action, Adventure, Drama, Fantasy, Magic, Mili...     TV      64.0    9.26   \n",
       "2  Action, Comedy, Historical, Parody, Samurai, S...     TV      51.0    9.25   \n",
       "3                                   Sci-Fi, Thriller     TV      24.0    9.17   \n",
       "4  Action, Comedy, Historical, Parody, Samurai, S...     TV      51.0    9.16   \n",
       "5             Comedy, Drama, School, Shounen, Sports     TV      10.0    9.15   \n",
       "6            Action, Adventure, Shounen, Super Power     TV     148.0    9.13   \n",
       "7                     Drama, Military, Sci-Fi, Space    OVA     110.0    9.11   \n",
       "8  Action, Comedy, Historical, Parody, Samurai, S...  Movie       1.0    9.10   \n",
       "9  Action, Comedy, Historical, Parody, Samurai, S...     TV      13.0    9.11   \n",
       "\n",
       "   members  true_weight  \n",
       "0   200630      2.00630  \n",
       "1   793665    507.94560  \n",
       "2   114262     58.27362  \n",
       "3   673572    161.65728  \n",
       "4   151266     77.14566  \n",
       "5    93351      9.33510  \n",
       "6   425855    630.26540  \n",
       "7    80679     88.74690  \n",
       "8    72534      0.72534  \n",
       "9    81109     10.54417  "
      ]
     },
     "execution_count": 46,
     "metadata": {},
     "output_type": "execute_result"
    }
   ],
   "source": [
    "animes['true_weight'] = animes['episodes'] * animes['members'] / 100000\n",
    "animes.head(10)"
   ]
  },
  {
   "cell_type": "code",
   "execution_count": 47,
   "id": "f1e9484e",
   "metadata": {},
   "outputs": [
    {
     "data": {
      "text/plain": [
       "<AxesSubplot:xlabel='true_weight', ylabel='rating'>"
      ]
     },
     "execution_count": 47,
     "metadata": {},
     "output_type": "execute_result"
    },
    {
     "data": {
      "image/png": "[encoded data removed]",
      "text/plain": [
       "<Figure size 640x480 with 2 Axes>"
      ]
     },
     "metadata": {},
     "output_type": "display_data"
    }
   ],
   "source": [
    "animes.plot(kind='hexbin',x='true_weight', y = 'rating' , gridsize = 10)"
   ]
  },
  {
   "cell_type": "code",
   "execution_count": null,
   "id": "3f2512f7",
   "metadata": {},
   "outputs": [],
   "source": [
    "fig, ax = plt.subplots(figsize=(4, 4))\n",
    "sns.kdeplot(data=animes.sample(10000), x='members', y='rating', ax=ax)\n",
    "ax.set_xlabel('members')\n",
    "ax.set_ylabel('rating')\n",
    "\n",
    "plt.tight_layout()\n",
    "plt.show()"
   ]
  },
  {
   "cell_type": "markdown",
   "id": "7fa373b0",
   "metadata": {},
   "source": [
    "### Violen plot\n"
   ]
  },
  {
   "cell_type": "code",
   "execution_count": null,
   "id": "fb1109c3",
   "metadata": {},
   "outputs": [],
   "source": [
    "fig, ax = plt.subplots(figsize=(5, 5))\n",
    "sns.violinplot(data=anime, x='episodes', y='members',\n",
    "               ax=ax, inner='quartile', color='white')\n",
    "ax.set_xlabel('rating')\n",
    "ax.set_ylabel('true_weight')\n",
    "\n",
    "plt.tight_layout()\n",
    "plt.show()"
   ]
  }
 ],
 "metadata": {
  "kernelspec": {
   "display_name": "Python 3 (ipykernel)",
   "language": "python",
   "name": "python3"
  },
  "language_info": {
   "codemirror_mode": {
    "name": "ipython",
    "version": 3
   },
   "file_extension": ".py",
   "mimetype": "text/x-python",
   "name": "python",
   "nbconvert_exporter": "python",
   "pygments_lexer": "ipython3",
   "version": "3.9.13"
  }
 },
 "nbformat": 4,
 "nbformat_minor": 5
}
